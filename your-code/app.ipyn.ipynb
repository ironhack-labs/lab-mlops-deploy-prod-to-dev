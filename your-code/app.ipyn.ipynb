{
 "cells": [
  {
   "cell_type": "markdown",
   "metadata": {},
   "source": [
    "# LAB | MLOps Deployment from PROD to DEV"
   ]
  },
  {
   "cell_type": "markdown",
   "metadata": {
    "vscode": {
     "languageId": "plaintext"
    }
   },
   "source": []
  },
  {
   "cell_type": "markdown",
   "metadata": {},
   "source": [
    "\n",
    "## Objective\n",
    "In this exercise, you will work in pairs to simulate the process of deploying code from a development environment (DEV) to a production environment (PRD). One student will act as the developer pushing code, while the other will be the gatekeeper ensuring the code runs correctly.\n",
    "\n",
    "## Instructions\n",
    "\n",
    "### Step 1: Form Pairs\n",
    "- Split into pairs\n",
    "\n",
    "### Step 2: Developer Role\n",
    "1. **Push Code to Repository**\n",
    "   - Create a new project or use an existing one\n",
    "   - Copy the code to a folder (which will be a git repo in a few minutes)\n",
    "   - Create a venv (see previous class in case you missed something)\n",
    "   - Install all the necessary packages\n",
    "   - Create the requirements.txt file\n",
    "\n",
    "   - Initialize a git repository in your project folder:\n",
    "     ```sh\n",
    "     git init\n",
    "     ```\n",
    "   - Add your project files to the repository - **do not add the venv folder to git**:\n",
    "     ```sh\n",
    "     git add [each_file]\n",
    "     ```\n",
    "\n",
    "   - Commit your changes:\n",
    "     ```sh\n",
    "     git commit -m \"Initial commit\"\n",
    "     ```\n",
    "   - Push your project to a remote git repository (GitHub, GitLab, etc.):\n",
    "     ```sh\n",
    "     git remote add origin <remote-repo-url>\n",
    "     git push -u origin main\n",
    "     ```\n",
    "\n",
    "2. **Create a Pull Request**\n",
    "   - Go to your remote repository and create a pull request (PR).\n",
    "\n",
    "### Step 3: Gatekeeper Role\n",
    "1. **Review and Pull Code**\n",
    "   - Review the pull request created by your partner.\n",
    "   - If everything looks good, merge the pull request.\n",
    "   - Pull the latest changes from the remote repository:\n",
    "     ```sh\n",
    "     git pull origin main\n",
    "     ```\n",
    "\n",
    "2. **Setup Environment**\n",
    "   - Navigate to the project directory.\n",
    "   - Create an empty venv\n",
    "   - Install the required dependencies listed in `requirements.txt`:\n",
    "     ```sh\n",
    "     pip install -r requirements.txt\n",
    "     ```\n",
    "\n",
    "3. **Run the Project**\n",
    "   - Ensure the project runs without errors.\n",
    "   - Provide feedback to the developer if there are any issues.\n",
    "\n",
    "### Step 4: Swap Roles and Repeat\n",
    "- Swap roles and repeat the exercise, so each student gets to be both the developer and the gatekeeper.\n",
    "  - Bonus: to simulate reality, try to do this again outside a video call (via Slack messages for example)\n",
    "\n",
    "### Notes\n",
    "- Ensure clear communication between partners during the process.\n",
    "- Make use of version control best practices.\n",
    "- Document any issues encountered and how they were resolved.\n",
    "\n",
    "## Deliverables\n",
    "- Each pair should have a functioning project that has been successfully reviewed, pulled, and run by the gatekeeper.\n",
    "- A brief report on the process, any challenges faced, and how they were overcome.\n",
    "\n",
    "Good luck and happy coding!\n",
    "\n",
    "\n"
   ]
  },
  {
   "cell_type": "code",
   "execution_count": 2,
   "metadata": {},
   "outputs": [
    {
     "name": "stdout",
     "output_type": "stream",
     "text": [
      "Please provide a valid URL.\n"
     ]
    }
   ],
   "source": [
    "import requests\n",
    "from bs4 import BeautifulSoup\n",
    "\n",
    "def fetch_title(url):\n",
    "    try:\n",
    "        response = requests.get(url)\n",
    "        response.raise_for_status()\n",
    "        soup = BeautifulSoup(response.text, 'html.parser')\n",
    "        title = soup.title.string if soup.title else \"No Title Found\"\n",
    "        return title\n",
    "    except requests.exceptions.RequestException as e:\n",
    "        return f\"An error occurred: {e}\"\n",
    "\n",
    "if __name__ == \"__main__\":\n",
    "    url = input(\"Enter a URL to fetch its title: \").strip()\n",
    "    if url:\n",
    "        print(f\"The title of the page is: {fetch_title(url)}\")\n",
    "    else:\n",
    "        print(\"Please provide a valid URL.\")\n"
   ]
  },
  {
   "cell_type": "code",
   "execution_count": null,
   "metadata": {},
   "outputs": [],
   "source": [
    "!pip freeze > requirements.txt\n",
    "\n",
    "!pip install -r requirements.txt\n"
   ]
  },
  {
   "cell_type": "code",
   "execution_count": 3,
   "metadata": {},
   "outputs": [
    {
     "data": {
      "text/plain": [
       "<module 'requests' from 'c:\\\\Users\\\\joshu\\\\.anaconda\\\\Lib\\\\site-packages\\\\requests\\\\__init__.py'>"
      ]
     },
     "execution_count": 3,
     "metadata": {},
     "output_type": "execute_result"
    }
   ],
   "source": [
    "#requirements.txt\n",
    "requests\n"
   ]
  },
  {
   "cell_type": "code",
   "execution_count": 4,
   "metadata": {},
   "outputs": [
    {
     "data": {
      "text/plain": [
       "bs4.BeautifulSoup"
      ]
     },
     "execution_count": 4,
     "metadata": {},
     "output_type": "execute_result"
    }
   ],
   "source": [
    "BeautifulSoup\n"
   ]
  },
  {
   "cell_type": "code",
   "execution_count": 5,
   "metadata": {},
   "outputs": [
    {
     "name": "stderr",
     "output_type": "stream",
     "text": [
      "Cloning into 'www.github.com'...\n",
      "fatal: repository 'https://www.github.com/' not found\n"
     ]
    }
   ],
   "source": [
    "# Simple Web Scraper\n",
    "\n",
    "#This is a simple Python project to fetch the title of a webpage given its URL.\n",
    "\n",
    "## Installation\n",
    "\n",
    "!git clone https://www.github.com\n"
   ]
  },
  {
   "cell_type": "code",
   "execution_count": 6,
   "metadata": {},
   "outputs": [
    {
     "name": "stdout",
     "output_type": "stream",
     "text": [
      "[WinError 2] The system cannot find the file specified: 'simple_scraper'\n",
      "c:\\Users\\joshu\\lab-mlops-deploy-prod-to-dev\\your-code\n"
     ]
    }
   ],
   "source": [
    "cd simple_scraper\n"
   ]
  },
  {
   "cell_type": "code",
   "execution_count": 7,
   "metadata": {},
   "outputs": [],
   "source": [
    "#Create a virtual environment\n",
    "!python -m venv venv\n"
   ]
  },
  {
   "cell_type": "code",
   "execution_count": 8,
   "metadata": {},
   "outputs": [],
   "source": [
    "!venv\\Scripts\\activate\n"
   ]
  },
  {
   "cell_type": "code",
   "execution_count": 10,
   "metadata": {},
   "outputs": [
    {
     "name": "stderr",
     "output_type": "stream",
     "text": [
      "python: can't open file 'c:\\\\Users\\\\joshu\\\\lab-mlops-deploy-prod-to-dev\\\\your-code\\\\app.py': [Errno 2] No such file or directory\n"
     ]
    }
   ],
   "source": [
    "!python app.ipyn.ipyn\n"
   ]
  }
 ],
 "metadata": {
  "kernelspec": {
   "display_name": "base",
   "language": "python",
   "name": "python3"
  },
  "language_info": {
   "codemirror_mode": {
    "name": "ipython",
    "version": 3
   },
   "file_extension": ".py",
   "mimetype": "text/x-python",
   "name": "python",
   "nbconvert_exporter": "python",
   "pygments_lexer": "ipython3",
   "version": "3.12.3"
  }
 },
 "nbformat": 4,
 "nbformat_minor": 2
}
