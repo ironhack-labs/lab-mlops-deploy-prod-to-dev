{
 "cells": [
  {
   "cell_type": "markdown",
   "metadata": {},
   "source": [
    "# Deployment Simulation Exercise\n",
    "**Objective**: Simulate the deployment process from DEV → PRD\n",
    "\n",
    "## Roles:\n",
    "1. 🧑💻 Developer (pushes code)\n",
    "2. 🛡️ Gatekeeper (validates and deploys)"
   ]
  },
  {
   "cell_type": "markdown",
   "metadata": {},
   "source": [
    "## Step 1: Initial Setup (Developer)"
   ]
  },
  {
   "cell_type": "code",
   "execution_count": null,
   "metadata": {},
   "outputs": [],
   "source": [
    "# Create project and virtual environment\n",
    "!mkdir my_project\n",
    "!cd my_project && python -m venv .venv\n",
    "\n",
    "# Install dependencies (example for Mac M1)\n",
    "!source my_project/.venv/bin/activate && \\\n",
    "pip install torch==2.3.0 transformers==4.40.0 streamlit==1.33.0\n",
    "\n",
    "# Generate requirements.txt\n",
    "!source my_project/.venv/bin/activate && \\\n",
    "pip freeze > my_project/requirements.txt"
   ]
  },
  {
   "cell_type": "markdown",
   "metadata": {},
   "source": [
    "## Step 2: Git Workflow"
   ]
  },
  {
   "cell_type": "code",
   "execution_count": null,
   "metadata": {},
   "outputs": [],
   "source": [
    "# Developer - Initialize repo\n",
    "!cd my_project && git init\n",
    "!cd my_project && echo \".venv/\" >> .gitignore\n",
    "!cd my_project && git add .\n",
    "!cd my_project && git commit -m \"Initial commit\"\n",
    "\n",
    "# Simulate push to GitHub (replace <URL>)\n",
    "# !cd my_project && git remote add origin <REPO_URL>\n",
    "# !cd my_project && git push -u origin main"
   ]
  },
  {
   "cell_type": "markdown",
   "metadata": {},
   "source": [
    "## Step 3: Validation (Gatekeeper)"
   ]
  },
  {
   "cell_type": "code",
   "execution_count": null,
   "metadata": {},
   "outputs": [],
   "source": [
    "# Clone repo (simulation)\n",
    "# !git clone <REPO_URL> prd_env\n",
    "# !cd prd_env\n",
    "\n",
    "# Set up production environment\n",
    "!python -m venv prd_venv\n",
    "!source prd_venv/bin/activate && \\\n",
    "pip install -r my_project/requirements.txt\n",
    "\n",
    "# Validation test\n",
    "!source prd_venv/bin/activate && \\\n",
    "python -c \"import torch; print(f'PyTorch version: {torch.__version__}')\""
   ]
  },
  {
   "cell_type": "markdown",
   "metadata": {},
   "source": [
    "## Troubleshooting Common Issues"
   ]
  },
  {
   "cell_type": "code",
   "execution_count": null,
   "metadata": {},
   "outputs": [],
   "source": [
    "# Fix missing dependencies\n",
    "!source prd_venv/bin/activate && \\\n",
    "pip install --upgrade -r my_project/requirements.txt\n",
    "\n",
    "# Fix for M1/M2 GPU\n",
    "!source prd_venv/bin/activate && \\\n",
    "pip install --pre torch torchvision torchaudio --extra-index-url https://download.pytorch.org/whl/nightly/cpu"
   ]
  },
  {
   "cell_type": "markdown",
   "metadata": {},
   "source": [
    "## Final Report (Template)"
   ]
  },
  {
   "cell_type": "code",
   "execution_count": null,
   "metadata": {},
   "outputs": [],
   "source": [
    "%%writefile report.md\n",
    "# Deployment Report\n",
    "## Team:\n",
    "- Developer: [Name]\n",
    "- Gatekeeper: [Name]\n",
    "\n",
    "## Issues Encountered:\n",
    "1. [Brief problem description]  \n",
    "**Solution**: [Solution explanation]\n",
    "\n",
    "## Key Metrics:\n",
    "| Indicator | Value |\n",
    "|-----------|-------|\n",
    "| Deployment Time | 15 min |\n",
    "| Critical Errors | 2 |\n",
    "| Performance | 4.2s/op |\n",
    "\n",
    "## Lessons Learned:\n",
    "- [List of key takeaways]"
   ]
  },
  {
   "cell_type": "markdown",
   "metadata": {},
   "source": [
    "## Bonus: Async Simulation\n",
    "```python\n",
    "# Cell to simulate async communication\n",
    "import time\n",
    "\n",
    "def simulate_slack_message():\n",
    "    print(\"[DEV] 10:00 AM - PR ready for review\")\n",
    "    time.sleep(2)\n",
    "    print(\"[PRD] 10:30 AM - Reviewing changes...\")\n",
    "    time.sleep(3)\n",
    "    print(\"[PRD] 10:35 AM - ✅ PR approved\")\n",
    "\n",
    "simulate_slack_message()\n",
    "```\n",
    "Run this cell to simulate communication delays"
   ]
  }
 ],
 "metadata": {
  "kernelspec": {
   "display_name": "Python 3",
   "language": "python",
   "name": "python3"
  },
  "language_info": {
   "codemirror_mode": {
    "name": "ipython",
    "version": 3
   },
   "file_extension": ".py",
   "mimetype": "text/x-python",
   "name": "python",
   "nbconvert_exporter": "python",
   "pygments_lexer": "ipython3",
   "version": "3.9.6"
  }
 },
 "nbformat": 4,
 "nbformat_minor": 4
}
