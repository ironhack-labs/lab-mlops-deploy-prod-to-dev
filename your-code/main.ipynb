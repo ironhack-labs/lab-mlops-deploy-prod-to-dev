{
 "cells": [
  {
   "cell_type": "markdown",
   "metadata": {},
   "source": [
    "# LAB | MLOps Deployment from PROD to DEV"
   ]
  },
  {
   "cell_type": "code",
   "execution_count": null,
   "metadata": {
    "vscode": {
     "languageId": "plaintext"
    }
   },
   "outputs": [],
   "source": [
    "import numpy as np\n",
    "import matplotlib.pyplot as plt\n",
    "import matplotlib.patches as patches"
   ]
  },
  {
   "cell_type": "code",
   "execution_count": null,
   "metadata": {
    "vscode": {
     "languageId": "plaintext"
    }
   },
   "outputs": [],
   "source": [
    "#wRITE A SMALL CODE THAT TEST THIS FUNCTIONS\n",
    "\n",
    "# Create a sample dataset (1D array)\n",
    "data = np.array([12, 15, 20, 25, 30])\n",
    "\n",
    "# Calculate the mean\n",
    "mean = np.mean(data)\n",
    "\n",
    "# Calculate the standard deviation\n",
    "std_dev = np.std(data)\n",
    "\n",
    "# Normalize the data (z-score normalization)\n",
    "normalized_data = (data - mean) / std_dev\n",
    "\n",
    "# Print the results\n",
    "print(\"Original Data:\", data)\n",
    "print(\"Mean:\", mean)\n",
    "print(\"Standard Deviation:\", std_dev)\n",
    "print(\"Normalized Data:\", normalized_data)\n",
    "\n",
    "#Hi this is cindy here trying to do some changes to your repo !"
   ]
  }
 ],
 "metadata": {
  "kernelspec": {
   "display_name": "venv_ironhack",
   "language": "python",
   "name": "python3"
  },
  "language_info": {
   "codemirror_mode": {
    "name": "ipython",
    "version": 3
   },
   "file_extension": ".py",
   "mimetype": "text/x-python",
   "name": "python",
   "nbconvert_exporter": "python",
   "pygments_lexer": "ipython3",
   "version": "3.11.9"
  }
 },
 "nbformat": 4,
 "nbformat_minor": 2
}
