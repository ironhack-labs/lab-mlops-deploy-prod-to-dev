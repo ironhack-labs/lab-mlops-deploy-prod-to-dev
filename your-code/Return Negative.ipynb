{
 "cells": [
  {
   "cell_type": "code",
   "execution_count": 1,
   "metadata": {},
   "outputs": [],
   "source": [
    "def make_negative( number ):\n",
    "    negative = number * (-1)\n",
    "    if negative == 0:\n",
    "        return number\n",
    "    else: \n",
    "        return -abs(number)\n",
    "    "
   ]
  },
  {
   "cell_type": "code",
   "execution_count": 2,
   "metadata": {},
   "outputs": [
    {
     "name": "stdout",
     "output_type": "stream",
     "text": [
      "-98\n"
     ]
    }
   ],
   "source": [
    "user_input = int(input('Please enter a number: '))\n",
    "print(make_negative(user_input))"
   ]
  }
 ],
 "metadata": {
  "kernelspec": {
   "display_name": "envConda1",
   "language": "python",
   "name": "python3"
  },
  "language_info": {
   "codemirror_mode": {
    "name": "ipython",
    "version": 3
   },
   "file_extension": ".py",
   "mimetype": "text/x-python",
   "name": "python",
   "nbconvert_exporter": "python",
   "pygments_lexer": "ipython3",
   "version": "3.12.0"
  }
 },
 "nbformat": 4,
 "nbformat_minor": 2
}
