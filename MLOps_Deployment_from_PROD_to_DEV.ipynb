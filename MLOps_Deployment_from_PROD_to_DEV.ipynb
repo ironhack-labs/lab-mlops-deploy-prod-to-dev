{
  "nbformat": 4,
  "nbformat_minor": 0,
  "metadata": {
    "colab": {
      "provenance": []
    },
    "kernelspec": {
      "name": "python3",
      "display_name": "Python 3"
    },
    "language_info": {
      "name": "python"
    }
  },
  "cells": [
    {
      "cell_type": "code",
      "execution_count": 1,
      "metadata": {
        "colab": {
          "base_uri": "https://localhost:8080/",
          "height": 106
        },
        "id": "CGP-0JBLgHGv",
        "outputId": "adf176f6-c032-4241-c39b-ee0cdb1a0cac"
      },
      "outputs": [
        {
          "output_type": "error",
          "ename": "SyntaxError",
          "evalue": "unterminated string literal (detected at line 54) (<ipython-input-1-0073bb47c28a>, line 54)",
          "traceback": [
            "\u001b[0;36m  File \u001b[0;32m\"<ipython-input-1-0073bb47c28a>\"\u001b[0;36m, line \u001b[0;32m54\u001b[0m\n\u001b[0;31m    print(\"✅ Despliegue exitoso en entorno\u001b[0m\n\u001b[0m          ^\u001b[0m\n\u001b[0;31mSyntaxError\u001b[0m\u001b[0;31m:\u001b[0m unterminated string literal (detected at line 54)\n"
          ]
        }
      ],
      "source": [
        "# ========================================\n",
        "# 🏗️ MLOps Deployment from PROD to DEV 🏗️\n",
        "# ========================================\n",
        "\n",
        "# 📌 Configuración del entorno\n",
        "!pip install -q numpy pandas scikit-learn tensorflow torch mlflow boto3\n",
        "\n",
        "# 🔹 Importar librerías necesarias\n",
        "import numpy as np\n",
        "import pandas as pd\n",
        "import tensorflow as tf\n",
        "import torch\n",
        "import mlflow\n",
        "import boto3\n",
        "\n",
        "# ========================================\n",
        "# 🔹 Definir una función de prueba\n",
        "# ========================================\n",
        "\n",
        "def test_model():\n",
        "    print(\"✅ Modelo cargado correctamente\")\n",
        "    return \"Modelo funcionando\"\n",
        "\n",
        "# Ejecutar función de prueba\n",
        "test_model()\n",
        "\n",
        "# ========================================\n",
        "# 🔹 Guardar información del modelo\n",
        "# ========================================\n",
        "\n",
        "# Crear un diccionario con información del modelo\n",
        "model_info = {\n",
        "    \"model_name\": \"MLOps_Model\",\n",
        "    \"version\": \"1.0\",\n",
        "    \"accuracy\": 95.2\n",
        "}\n",
        "\n",
        "# Convertirlo a DataFrame\n",
        "df = pd.DataFrame([model_info])\n",
        "\n",
        "# Guardar en CSV (como referencia)\n",
        "df.to_csv(\"model_info.csv\", index=False)\n",
        "\n",
        "print(\"✅ Información del modelo guardada como `model_info.csv`\")\n",
        "\n",
        "# ========================================\n",
        "# 🔹 Simular despliegue (PROD -> DEV)\n",
        "# ========================================\n",
        "\n",
        "# Mensaje de despliegue\n",
        "print(\"\\n🚀 Desplegando el modelo desde Producción a Desarrollo...\")\n",
        "\n",
        "# Simular despliegue exitoso\n",
        "print(\"✅ Despliegue exitoso en entorno\n"
      ]
    }
  ]
}