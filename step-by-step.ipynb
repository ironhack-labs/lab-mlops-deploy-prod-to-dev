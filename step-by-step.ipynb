{
 "cells": [
  {
   "cell_type": "markdown",
   "metadata": {},
   "source": [
    "# Lab MLOps Prod to Dev: Carlos' step by step "
   ]
  },
  {
   "cell_type": "markdown",
   "metadata": {},
   "source": [
    "1. Before opening Bash I created a new repo where I added the following project.\n",
    "2. I opened Git Bash to create a new directory (dani-charlie-repo) where I worked with a virtual environment called 'venv'\n",
    "3. Through Bash I created a new .py file where I copy-pasted the code example from '02. Virtual Envs.ipynb'\n",
    "4. I also created the essential files: README.md, requirements.txt and a .gitignore. \n",
    "5. Then I installed both necessary packages: 'bs4' and 'requests'\n",
    "6. Initialized the repo using 'git init', added the files (excluding venv), committed changes and pushed a new branch to a remote repository in Github.\n",
    "7. I requested Dani Siaj for a pull and to change the code.\n",
    "8. I merged the changes and approved them."
   ]
  }
 ],
 "metadata": {
  "language_info": {
   "name": "python"
  }
 },
 "nbformat": 4,
 "nbformat_minor": 2
}
