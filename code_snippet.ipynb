{
 "cells": [
  {
   "cell_type": "markdown",
   "metadata": {},
   "source": [
    "### Example of code you can use in your venv tutorial"
   ]
  },
  {
   "cell_type": "code",
   "execution_count": 3,
   "metadata": {},
   "outputs": [
    {
     "name": "stdout",
     "output_type": "stream",
     "text": [
      "Marie Curie\n",
      "Born\n",
      "Died\n",
      "Cause of death\n",
      "Citizenship\n",
      "Alma mater\n",
      "Known for\n",
      "Spouse\n",
      "Children\n",
      "Relatives\n",
      "Family\n",
      "Awards\n",
      "Fields\n",
      "Institutions\n",
      "Thesis\n",
      "Doctoral advisor\n",
      "Doctoral students\n",
      "Signature\n",
      "Notes\n"
     ]
    }
   ],
   "source": [
    "# the main library you will need for webscraping is called Beautiful Soup\n",
    "from bs4 import BeautifulSoup\n",
    "\n",
    "# the second package we will need we already know it\n",
    "import requests\n",
    "\n",
    "\n",
    "url = \"https://en.wikipedia.org/wiki/Marie_Curie\"\n",
    "\n",
    "response = requests.get(url)\n",
    "soup = BeautifulSoup(response.content)\n",
    "tables = soup.find_all('table', attrs= {'class' : 'infobox biography vcard'})\n",
    "for line in tables[0].find_all('th'):\n",
    "  print(line.text)"
   ]
  }
 ],
 "metadata": {
  "kernelspec": {
   "display_name": "Python 3",
   "language": "python",
   "name": "python3"
  },
  "language_info": {
   "codemirror_mode": {
    "name": "ipython",
    "version": 3
   },
   "file_extension": ".py",
   "mimetype": "text/x-python",
   "name": "python",
   "nbconvert_exporter": "python",
   "pygments_lexer": "ipython3",
   "version": "3.12.7"
  }
 },
 "nbformat": 4,
 "nbformat_minor": 2
}
